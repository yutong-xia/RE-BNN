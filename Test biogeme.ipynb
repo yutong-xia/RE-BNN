{
 "cells": [
  {
   "cell_type": "code",
   "execution_count": 3,
   "metadata": {},
   "outputs": [],
   "source": [
    "%matplotlib inline\n",
    "import numpy as np\n",
    "import matplotlib.pyplot as plt\n",
    "import pandas as pd\n",
    "from sklearn import preprocessing\n",
    "from sklearn.preprocessing import StandardScaler\n",
    "import os\n",
    "import scipy\n",
    "from scipy.signal import savgol_filter\n",
    "import pickle as pkl\n",
    "from util import config\n",
    "\n",
    "import analysis\n",
    "import data_preprocess\n",
    "import nn\n",
    "import plot"
   ]
  },
  {
   "cell_type": "code",
   "execution_count": 4,
   "metadata": {
    "collapsed": true
   },
   "outputs": [],
   "source": [
    "# Read the preprocessed dataset \n",
    "with open('./data/data_stand.pkl','rb') as f:  \n",
    "    data=pkl.load(f)\n",
    "with open('./data/data_non_stand.pkl','rb') as f:  \n",
    "    data_non_stand=pkl.load(f)"
   ]
  },
  {
   "cell_type": "code",
   "execution_count": 5,
   "metadata": {
    "collapsed": true
   },
   "outputs": [],
   "source": [
    "years_str=config['experiments']['years']\n",
    "region_name =config['experiments']['region']\n",
    "travel_mode = config['experiments']['mode']\n",
    "fixed_effect = config['experiments']['variables']"
   ]
  },
  {
   "cell_type": "code",
   "execution_count": 6,
   "metadata": {
    "collapsed": true
   },
   "outputs": [],
   "source": [
    "# split the data by years\n",
    "data2005=data[data.Year==2005].sort_values(by=['Mode','Household_region']).reset_index(drop=True)\n",
    "data2006=data[data.Year==2006].sort_values(by=['Mode','Household_region']).reset_index(drop=True)\n",
    "data2007=data[data.Year==2007].sort_values(by=['Mode','Household_region']).reset_index(drop=True)\n",
    "data2008=data[data.Year==2008].sort_values(by=['Mode','Household_region']).reset_index(drop=True)\n",
    "data2009=data[data.Year==2009].sort_values(by=['Mode','Household_region']).reset_index(drop=True)\n",
    "data2010=data[data.Year==2010].sort_values(by=['Mode','Household_region']).reset_index(drop=True)\n",
    "data2011=data[data.Year==2011].sort_values(by=['Mode','Household_region']).reset_index(drop=True)\n",
    "data2012=data[data.Year==2012].sort_values(by=['Mode','Household_region']).reset_index(drop=True)\n",
    "data2013=data[data.Year==2013].sort_values(by=['Mode','Household_region']).reset_index(drop=True)\n",
    "data2014=data[data.Year==2014].sort_values(by=['Mode','Household_region']).reset_index(drop=True)\n",
    "data2015=data[data.Year==2015].sort_values(by=['Mode','Household_region']).reset_index(drop=True)\n",
    "data2016=data[data.Year==2016].sort_values(by=['Mode','Household_region']).reset_index(drop=True)\n",
    "\n",
    "data_list=[data2005,data2006,data2007,data2008,data2009,data2010,data2011,data2012,data2013,data2014,data2015,data2016]"
   ]
  },
  {
   "cell_type": "markdown",
   "metadata": {},
   "source": [
    "# Original codes for MNL in my dissertation"
   ]
  },
  {
   "cell_type": "code",
   "execution_count": 8,
   "metadata": {
    "collapsed": true
   },
   "outputs": [],
   "source": [
    "corr_choice_attribute=pd.DataFrame(columns=plot.get_modes(),index=nn.get_vars())"
   ]
  },
  {
   "cell_type": "code",
   "execution_count": 9,
   "metadata": {},
   "outputs": [
    {
     "name": "stdout",
     "output_type": "stream",
     "text": [
      "Columns correlated with the alternatives Walk:\n",
      "Mode_y                 1.000000\n",
      "Household_car          0.128122\n",
      "Trip_distance          0.119677\n",
      "Household_licence      0.104553\n",
      "Trip_purpose_1         0.073007\n",
      "Trip_purpose_6         0.060728\n",
      "Trip_purpose_2         0.054624\n",
      "Household_employeed    0.049424\n",
      "Individual_income      0.048711\n",
      "Trip_purpose_3         0.044048\n",
      "Name: Mode_y, dtype: float64\n",
      "Columns selected in the utility function of Walk:\n",
      "['Household_car', 'Trip_distance', 'Household_licence', 'Trip_time']\n",
      " \n",
      "Columns correlated with the alternatives Bicycle:\n",
      "Mode_y                    1.000000\n",
      "Household_bike            0.077892\n",
      "Trip_purpose_1            0.069661\n",
      "Individual_gender_1       0.063832\n",
      "Household_car             0.059819\n",
      "Trip_distance             0.039636\n",
      "Individual_age            0.029392\n",
      "Household_licence         0.028681\n",
      "Trip_purpose_4            0.027300\n",
      "Individual_education_1    0.023555\n",
      "Name: Mode_y, dtype: float64\n",
      "Columns selected in the utility function of Bicycle:\n",
      "['Household_bike', 'Trip_purpose_1', 'Trip_time']\n",
      " \n",
      "Columns correlated with the alternatives Driving:\n",
      "Mode_y                    1.000000\n",
      "Household_car             0.284203\n",
      "Population_density        0.231872\n",
      "Household_licence         0.222658\n",
      "Trip_time                 0.168562\n",
      "Individual_age            0.120671\n",
      "Household_settlement_1    0.114717\n",
      "Household_bike            0.072615\n",
      "Trip_purpose_6            0.066028\n",
      "Trip_purpose_3            0.061349\n",
      "Name: Mode_y, dtype: float64\n",
      "Columns selected in the utility function of Driving:\n",
      "['Household_car', 'Population_density', 'Household_licence', 'Trip_time', 'Individual_age', 'Household_settlement_1']\n",
      " \n",
      "Columns correlated with the alternatives Bus:\n",
      "Mode_y                    1.000000\n",
      "Household_car             0.229097\n",
      "Household_licence         0.215844\n",
      "Population_density        0.153816\n",
      "Household_bike            0.099146\n",
      "Individual_income         0.089951\n",
      "Household_settlement_1    0.082647\n",
      "Trip_time                 0.078837\n",
      "Individual_age            0.074792\n",
      "Trip_purpose_3            0.060387\n",
      "Name: Mode_y, dtype: float64\n",
      "Columns selected in the utility function of Bus:\n",
      "['Household_car', 'Household_licence', 'Population_density', 'Trip_time']\n",
      " \n",
      "Columns correlated with the alternatives Rail:\n",
      "Mode_y                    1.000000\n",
      "Population_density        0.265060\n",
      "Trip_time                 0.238121\n",
      "Trip_distance             0.163098\n",
      "Trip_purpose_1            0.144623\n",
      "Individual_education_1    0.108496\n",
      "Individual_income         0.099691\n",
      "Household_car             0.082231\n",
      "Individual_age            0.079956\n",
      "Trip_purpose_4            0.066645\n",
      "Name: Mode_y, dtype: float64\n",
      "Columns selected in the utility function of Rail:\n",
      "['Population_density', 'Trip_time', 'Trip_distance', 'Trip_purpose_1', 'Individual_education_1']\n",
      " \n"
     ]
    }
   ],
   "source": [
    "# choose vars of each mode\n",
    "data_test_mnl=data.sample(100000,random_state=42).reset_index()\n",
    "data_test_mnl.drop(columns=['index','IndividualID','HouseholdID','Year','Household_region'],inplace=True)\n",
    "mnl_col,corr_mnl=nn.get_vars_MNL(data_test_mnl)"
   ]
  },
  {
   "cell_type": "code",
   "execution_count": 10,
   "metadata": {
    "collapsed": true
   },
   "outputs": [],
   "source": [
    "accuracy_mnl=[]\n",
    "prob_mnl_pre=[]\n",
    "for i in data_list:\n",
    "    acc,pred=nn.MNL_MODEL(i,mnl_col)\n",
    "    accuracy_mnl.append(acc)\n",
    "    prob_mnl_pre.append(pred)\n",
    "    \n",
    "pd.DataFrame(accuracy_mnl).to_csv('accuracy_mnl.csv')\n",
    "for i in range(len(years_str)):\n",
    "    pd.DataFrame(prob_mnl_pre[i]).to_csv(f'prob_mnl_pre{years_str[i]}.csv')"
   ]
  },
  {
   "cell_type": "code",
   "execution_count": 54,
   "metadata": {
    "collapsed": true
   },
   "outputs": [],
   "source": [
    "accuracy_mnl=pd.read_csv('accuracy_mnl.csv')"
   ]
  },
  {
   "cell_type": "markdown",
   "metadata": {},
   "source": [
    "# Biogeme Package\n",
    "\n",
    "Reference:https://github.com/mncosta/biogeme_tutorial/blob/ad508a367b6cad0a4dca294c98bda97899c54b22/6.1-MultinomialLogitAndProbitModels/.ipynb_checkpoints/04-logit-train-test-checkpoint.ipynb"
   ]
  },
  {
   "cell_type": "code",
   "execution_count": 7,
   "metadata": {
    "collapsed": true
   },
   "outputs": [
    {
     "ename": "ImportError",
     "evalue": "/home/yutong/anaconda3/envs/rebnn/lib/python3.6/site-packages/biogeme/cbiogeme.cpython-36m-x86_64-linux-gnu.so: undefined symbol: _ZTVN10__cxxabiv120__si_class_type_infoE",
     "output_type": "error",
     "traceback": [
      "\u001b[0;31m---------------------------------------------------------------------------\u001b[0m",
      "\u001b[0;31mImportError\u001b[0m                               Traceback (most recent call last)",
      "\u001b[0;32m<ipython-input-7-d2f3f35373fb>\u001b[0m in \u001b[0;36m<module>\u001b[0;34m()\u001b[0m\n\u001b[0;32m----> 1\u001b[0;31m \u001b[0;32mimport\u001b[0m \u001b[0mbiogeme\u001b[0m\u001b[0;34m.\u001b[0m\u001b[0mdatabase\u001b[0m \u001b[0;32mas\u001b[0m \u001b[0mdb\u001b[0m\u001b[0;34m\u001b[0m\u001b[0;34m\u001b[0m\u001b[0m\n\u001b[0m\u001b[1;32m      2\u001b[0m \u001b[0;32mimport\u001b[0m \u001b[0mbiogeme\u001b[0m\u001b[0;34m.\u001b[0m\u001b[0mbiogeme\u001b[0m \u001b[0;32mas\u001b[0m \u001b[0mbio\u001b[0m\u001b[0;34m\u001b[0m\u001b[0;34m\u001b[0m\u001b[0m\n\u001b[1;32m      3\u001b[0m \u001b[0;32mimport\u001b[0m \u001b[0mbiogeme\u001b[0m\u001b[0;34m.\u001b[0m\u001b[0mmodels\u001b[0m \u001b[0;32mas\u001b[0m \u001b[0mmodels\u001b[0m\u001b[0;34m\u001b[0m\u001b[0;34m\u001b[0m\u001b[0m\n\u001b[1;32m      4\u001b[0m \u001b[0;32mimport\u001b[0m \u001b[0mbiogeme\u001b[0m\u001b[0;34m.\u001b[0m\u001b[0mexpressions\u001b[0m \u001b[0;32mas\u001b[0m \u001b[0mexp\u001b[0m\u001b[0;34m\u001b[0m\u001b[0;34m\u001b[0m\u001b[0m\n\u001b[1;32m      5\u001b[0m \u001b[0;32mimport\u001b[0m \u001b[0mseaborn\u001b[0m \u001b[0;32mas\u001b[0m \u001b[0msns\u001b[0m\u001b[0;34m\u001b[0m\u001b[0;34m\u001b[0m\u001b[0m\n",
      "\u001b[0;32m/home/yutong/anaconda3/envs/rebnn/lib/python3.6/site-packages/biogeme/database.py\u001b[0m in \u001b[0;36m<module>\u001b[0;34m()\u001b[0m\n\u001b[1;32m     23\u001b[0m \u001b[0;32mfrom\u001b[0m \u001b[0mbiogeme\u001b[0m \u001b[0;32mimport\u001b[0m \u001b[0mdraws\u001b[0m\u001b[0;34m\u001b[0m\u001b[0;34m\u001b[0m\u001b[0m\n\u001b[1;32m     24\u001b[0m \u001b[0;34m\u001b[0m\u001b[0m\n\u001b[0;32m---> 25\u001b[0;31m \u001b[0;32mfrom\u001b[0m \u001b[0mbiogeme\u001b[0m\u001b[0;34m.\u001b[0m\u001b[0mexpressions\u001b[0m \u001b[0;32mimport\u001b[0m \u001b[0mVariable\u001b[0m\u001b[0;34m,\u001b[0m \u001b[0misNumeric\u001b[0m\u001b[0;34m,\u001b[0m \u001b[0mNumeric\u001b[0m\u001b[0;34m\u001b[0m\u001b[0;34m\u001b[0m\u001b[0m\n\u001b[0m\u001b[1;32m     26\u001b[0m \u001b[0;34m\u001b[0m\u001b[0m\n\u001b[1;32m     27\u001b[0m \u001b[0;34m\u001b[0m\u001b[0m\n",
      "\u001b[0;32m/home/yutong/anaconda3/envs/rebnn/lib/python3.6/site-packages/biogeme/expressions.py\u001b[0m in \u001b[0;36m<module>\u001b[0;34m()\u001b[0m\n\u001b[1;32m     16\u001b[0m \u001b[0;32mimport\u001b[0m \u001b[0mnumpy\u001b[0m \u001b[0;32mas\u001b[0m \u001b[0mnp\u001b[0m\u001b[0;34m\u001b[0m\u001b[0;34m\u001b[0m\u001b[0m\n\u001b[1;32m     17\u001b[0m \u001b[0;32mimport\u001b[0m \u001b[0mbiogeme\u001b[0m\u001b[0;34m.\u001b[0m\u001b[0mexceptions\u001b[0m \u001b[0;32mas\u001b[0m \u001b[0mexcep\u001b[0m\u001b[0;34m\u001b[0m\u001b[0;34m\u001b[0m\u001b[0m\n\u001b[0;32m---> 18\u001b[0;31m \u001b[0;32mimport\u001b[0m \u001b[0mbiogeme\u001b[0m\u001b[0;34m.\u001b[0m\u001b[0mcbiogeme\u001b[0m \u001b[0;32mas\u001b[0m \u001b[0mcb\u001b[0m\u001b[0;34m\u001b[0m\u001b[0;34m\u001b[0m\u001b[0m\n\u001b[0m\u001b[1;32m     19\u001b[0m \u001b[0;32mimport\u001b[0m \u001b[0mbiogeme\u001b[0m\u001b[0;34m.\u001b[0m\u001b[0mmessaging\u001b[0m \u001b[0;32mas\u001b[0m \u001b[0mmsg\u001b[0m\u001b[0;34m\u001b[0m\u001b[0;34m\u001b[0m\u001b[0m\n\u001b[1;32m     20\u001b[0m \u001b[0;34m\u001b[0m\u001b[0m\n",
      "\u001b[0;31mImportError\u001b[0m: /home/yutong/anaconda3/envs/rebnn/lib/python3.6/site-packages/biogeme/cbiogeme.cpython-36m-x86_64-linux-gnu.so: undefined symbol: _ZTVN10__cxxabiv120__si_class_type_infoE"
     ]
    }
   ],
   "source": [
    "import biogeme.database as db\n",
    "import biogeme.biogeme as bio\n",
    "import biogeme.models as models\n",
    "import biogeme.expressions as exp\n",
    "import seaborn as sns\n",
    "import biogeme.optimization as opt\n",
    "import matplotlib.pyplot as plt\n",
    "import biogeme.results as res\n",
    "from biogeme.expressions import Beta, DefineVariable"
   ]
  },
  {
   "cell_type": "code",
   "execution_count": 27,
   "metadata": {
    "collapsed": true
   },
   "outputs": [],
   "source": [
    "data2016['AV']=1\n",
    "database2016 = db.Database(\"data_base2016\", data2016)"
   ]
  },
  {
   "cell_type": "code",
   "execution_count": 28,
   "metadata": {
    "collapsed": true
   },
   "outputs": [],
   "source": [
    "globals().update(database2016.variables)"
   ]
  },
  {
   "cell_type": "code",
   "execution_count": 29,
   "metadata": {
    "collapsed": true
   },
   "outputs": [],
   "source": [
    "train_index,test_index=nn.train_test_index(data2016)\n",
    "data2016_train=data2016.loc[train_index]\n",
    "data2016_test=data2016.loc[test_index]"
   ]
  },
  {
   "cell_type": "code",
   "execution_count": 30,
   "metadata": {
    "collapsed": true
   },
   "outputs": [],
   "source": [
    "database2016_train=db.Database(\"database2016_train\", data2016_train)\n",
    "database2016_test=db.Database(\"database2016_test\", data2016_test)"
   ]
  },
  {
   "cell_type": "code",
   "execution_count": 31,
   "metadata": {
    "collapsed": true
   },
   "outputs": [],
   "source": [
    "A_walk   = exp.Beta('A_walk',0,None ,None ,0)\n",
    "B_walk_cars   = exp.Beta('B_walk_cars',0,None ,None ,0)\n",
    "B_walk_distance = exp.Beta('B_walk_distance',0,None ,None ,0)\n",
    "B_walk_licence  = exp.Beta('B_walk_licence',0,None ,None ,0)\n",
    "B_wlak_time   = exp.Beta('B_wlak_time',0,None ,None ,0)\n",
    "\n",
    "A_bike   = exp.Beta('A_bike ',0,None ,None ,1)\n",
    "B_bike_bikes   = exp.Beta('B_bike_bikes',0,None ,None ,0)\n",
    "B_bike_purpose1 = exp.Beta('B_bike_purpose1',0,None ,None ,0)\n",
    "B_bike_time   = exp.Beta('B_bike_time ',0,None ,None ,0)\n",
    "\n",
    "A_car  = exp.Beta('A_car',0,None ,None ,0)\n",
    "B_car_cars   = exp.Beta('B_car_cars',0,None ,None ,0)\n",
    "B_car_pop= exp.Beta('B_car_pop',0,None ,None ,0)\n",
    "B_car_licence   = exp.Beta('B_car_licence',0,None ,None ,0)\n",
    "B_car_time   = exp.Beta('B_car_time',0,None ,None ,0)\n",
    "B_car_age= exp.Beta('B_car_age',0,None ,None ,0)\n",
    "B_car_set1   = exp.Beta('B_car_set1',0,None ,None ,0)\n",
    "\n",
    "A_bus  = exp.Beta('A_bus',0,None ,None ,0)\n",
    "B_bus_cars   = exp.Beta('B_bus_cars',0,None ,None ,0)\n",
    "B_bus_licence= exp.Beta('B_bus_licence',0,None ,None ,0)\n",
    "B_bus_pop   = exp.Beta('B_bus_pop',0,None ,None ,0)\n",
    "B_bus_time   = exp.Beta('B_bus_time',0,None ,None ,0)\n",
    "\n",
    "A_rail= exp.Beta('A_rail',0,None ,None ,0)\n",
    "B_rail_pop   = exp.Beta('B_rail_pop',0,None ,None ,0)\n",
    "B_rail_time= exp.Beta('B_rail_time',0,None ,None ,0)\n",
    "B_rail_distance  = exp.Beta('B_rail_distance',0,None ,None ,0)\n",
    "B_rail_purpose1   = exp.Beta('B_rail_purpose1',0,None ,None ,0)\n",
    "B_rail_edu1= exp.Beta('B_rail_edu1',0,None ,None ,0)"
   ]
  },
  {
   "cell_type": "code",
   "execution_count": 32,
   "metadata": {
    "collapsed": true
   },
   "outputs": [],
   "source": [
    "Walk= A_walk + \\\n",
    "    B_walk_cars * Household_car + \\\n",
    "    B_walk_distance * Trip_distance + \\\n",
    "    B_walk_licence * Household_licence + \\\n",
    "    B_wlak_time * Trip_time\n",
    "    \n",
    "Bike=A_bike+\\\n",
    "    B_bike_bikes * Household_bike + \\\n",
    "    B_bike_purpose1 * Trip_purpose_1 + \\\n",
    "    B_bike_time * Trip_time\n",
    "    \n",
    "Car=A_car+\\\n",
    "    B_car_cars * Household_car + \\\n",
    "    B_car_pop * Population_density + \\\n",
    "    B_car_licence * Household_licence + \\\n",
    "    B_car_time * Trip_time+\\\n",
    "    B_car_age * Individual_age + \\\n",
    "    B_car_set1 * Household_settlement_1\n",
    "\n",
    "Bus=A_bus+\\\n",
    "    B_bus_cars * Household_car+\\\n",
    "    B_bus_licence * Household_licence+\\\n",
    "    B_bus_pop * Population_density+\\\n",
    "    B_bus_time * Trip_time\n",
    "\n",
    "Rail=A_rail+\\\n",
    "    B_rail_pop * Population_density+\\\n",
    "    B_rail_time * Trip_time +\\\n",
    "    B_rail_distance * Trip_distance +\\\n",
    "    B_rail_purpose1 * Trip_purpose_1 +\\\n",
    "    B_rail_edu1 * Individual_education_1"
   ]
  },
  {
   "cell_type": "code",
   "execution_count": 33,
   "metadata": {
    "collapsed": true
   },
   "outputs": [],
   "source": [
    "V = {1: Walk,\n",
    "     2: Bike,\n",
    "     3: Car,\n",
    "     4:Bus,\n",
    "     5:Rail}\n",
    "\n",
    "av = {1: AV,\n",
    "      2: AV,\n",
    "      3: AV,\n",
    "      4:AV,\n",
    "      5:AV\n",
    "    }"
   ]
  },
  {
   "cell_type": "code",
   "execution_count": 34,
   "metadata": {
    "collapsed": true
   },
   "outputs": [],
   "source": [
    "# Define the model\n",
    "logprob = models.loglogit(V,av, Mode)\n",
    "\n",
    "#Define the Biogeme object\n",
    "biogeme  = bio.BIOGEME(database2016_train, logprob)\n",
    "\n",
    "biogeme.modelName = \"data2016_train\""
   ]
  },
  {
   "cell_type": "code",
   "execution_count": 35,
   "metadata": {},
   "outputs": [
    {
     "name": "stdout",
     "output_type": "stream",
     "text": [
      "HTML file:    data2016_train~04.html\n",
      "Pickle file:  data2016_train~04.pickle\n"
     ]
    }
   ],
   "source": [
    "biogeme.generateHtml = True\n",
    "biogeme.generatePickle = True\n",
    "\n",
    "results = biogeme.estimate()\n",
    "\n",
    "print(f\"HTML file:    {results.data.htmlFileName}\")\n",
    "print(f\"Pickle file:  {results.data.pickleFileName }\")"
   ]
  },
  {
   "cell_type": "code",
   "execution_count": 36,
   "metadata": {},
   "outputs": [
    {
     "name": "stdout",
     "output_type": "stream",
     "text": [
      "A_bus     =\t0.852\n",
      "A_car     =\t4.32\n",
      "A_rail    =\t-0.0364\n",
      "A_walk    =\t-2.9\n",
      "B_bike_bikes=\t0.561\n",
      "B_bike_purpose1=\t1.28\n",
      "B_bike_time =\t-0.219\n",
      "B_bus_cars=\t-0.448\n",
      "B_bus_licence=\t-0.455\n",
      "B_bus_pop =\t0.363\n",
      "B_bus_time=\t0.136\n",
      "B_car_age =\t0.229\n",
      "B_car_cars=\t0.645\n",
      "B_car_licence=\t0.0362\n",
      "B_car_pop =\t-0.0741\n",
      "B_car_set1=\t-0.0299\n",
      "B_car_time=\t-0.276\n",
      "B_rail_distance=\t-0.232\n",
      "B_rail_edu1=\t0.67\n",
      "B_rail_pop=\t0.639\n",
      "B_rail_purpose1=\t1.37\n",
      "B_rail_time=\t0.633\n",
      "B_walk_cars=\t0.476\n",
      "B_walk_distance=\t-18.3\n",
      "B_walk_licence=\t-0.0733\n",
      "B_wlak_time=\t2.8\n"
     ]
    }
   ],
   "source": [
    "betas= results.getBetaValues()\n",
    "for k,v in betas.items():\n",
    "    print(f\"{k:10}=\\t{v:.3g}\")"
   ]
  },
  {
   "cell_type": "code",
   "execution_count": 37,
   "metadata": {
    "collapsed": true
   },
   "outputs": [],
   "source": [
    "prob_walk = models.logit(V, av, 1)\n",
    "prob_bike = models.logit(V, av, 2)\n",
    "prob_car = models.logit(V, av, 3)\n",
    "prob_bus = models.logit(V, av, 4)\n",
    "prob_rail = models.logit(V, av, 5)"
   ]
  },
  {
   "cell_type": "code",
   "execution_count": 38,
   "metadata": {
    "collapsed": true
   },
   "outputs": [],
   "source": [
    "simulate ={'Prob. walk':  prob_walk ,\n",
    "           'Prob. bike':  prob_bike ,\n",
    "           'Prob. car': prob_car ,\n",
    "           'Prob. bus': prob_bus ,\n",
    "           'Prob. rail': prob_rail }"
   ]
  },
  {
   "cell_type": "code",
   "execution_count": 39,
   "metadata": {
    "collapsed": true
   },
   "outputs": [],
   "source": [
    "biogeme = bio.BIOGEME(database2016_test, simulate)\n",
    "biogeme.modelName = \"data2016_test\""
   ]
  },
  {
   "cell_type": "code",
   "execution_count": 40,
   "metadata": {},
   "outputs": [
    {
     "name": "stdout",
     "output_type": "stream",
     "text": [
      "Extracting the following variables:\n",
      "\t A_bus\n",
      "\t A_car\n",
      "\t A_rail\n",
      "\t A_walk\n",
      "\t B_bike_bikes\n",
      "\t B_bike_purpose1\n",
      "\t B_bike_time \n",
      "\t B_bus_cars\n",
      "\t B_bus_licence\n",
      "\t B_bus_pop\n",
      "\t B_bus_time\n",
      "\t B_car_age\n",
      "\t B_car_cars\n",
      "\t B_car_licence\n",
      "\t B_car_pop\n",
      "\t B_car_set1\n",
      "\t B_car_time\n",
      "\t B_rail_distance\n",
      "\t B_rail_edu1\n",
      "\t B_rail_pop\n",
      "\t B_rail_purpose1\n",
      "\t B_rail_time\n",
      "\t B_walk_cars\n",
      "\t B_walk_distance\n",
      "\t B_walk_licence\n",
      "\t B_wlak_time\n"
     ]
    }
   ],
   "source": [
    "betas = biogeme.freeBetaNames\n",
    "\n",
    "print('Extracting the following variables:')\n",
    "for k in betas:\n",
    "    print('\\t',k)\n",
    "\n",
    "results = res.bioResults(pickleFile='data2016_train.pickle')\n",
    "betaValues = results.getBetaValues ()"
   ]
  },
  {
   "cell_type": "code",
   "execution_count": 41,
   "metadata": {},
   "outputs": [
    {
     "name": "stdout",
     "output_type": "stream",
     "text": [
      "    Prob. walk  Prob. bike  Prob. car  Prob. bus  Prob. rail\n",
      "5     0.414779    0.047248   0.511513   0.018904    0.007556\n",
      "10    0.100364    0.081425   0.779326   0.025152    0.013733\n",
      "15    0.392442    0.009155   0.563925   0.028843    0.005636\n",
      "16    0.446480    0.008357   0.512668   0.027021    0.005474\n",
      "18    0.474059    0.007949   0.486587   0.026034    0.005370\n"
     ]
    }
   ],
   "source": [
    "simulatedValues = biogeme.simulate(betaValues)\n",
    "print(simulatedValues.head())"
   ]
  },
  {
   "cell_type": "code",
   "execution_count": 42,
   "metadata": {
    "collapsed": true
   },
   "outputs": [],
   "source": [
    "prob_max = simulatedValues.idxmax(axis=1)\n",
    "prob_max = prob_max.replace({'Prob. walk': 1, 'Prob. bike': 2, 'Prob. car': 3,'Prob. bus':4,'Prob. rail':5})\n"
   ]
  },
  {
   "cell_type": "code",
   "execution_count": 43,
   "metadata": {},
   "outputs": [
    {
     "data": {
      "text/plain": [
       "{1, 2, 3, 4, 5}"
      ]
     },
     "execution_count": 43,
     "metadata": {},
     "output_type": "execute_result"
    }
   ],
   "source": [
    "set(prob_max)"
   ]
  },
  {
   "cell_type": "code",
   "execution_count": 44,
   "metadata": {},
   "outputs": [
    {
     "data": {
      "text/html": [
       "<div>\n",
       "<style scoped>\n",
       "    .dataframe tbody tr th:only-of-type {\n",
       "        vertical-align: middle;\n",
       "    }\n",
       "\n",
       "    .dataframe tbody tr th {\n",
       "        vertical-align: top;\n",
       "    }\n",
       "\n",
       "    .dataframe thead th {\n",
       "        text-align: right;\n",
       "    }\n",
       "</style>\n",
       "<table border=\"1\" class=\"dataframe\">\n",
       "  <thead>\n",
       "    <tr style=\"text-align: right;\">\n",
       "      <th>Predicted</th>\n",
       "      <th>1</th>\n",
       "      <th>2</th>\n",
       "      <th>3</th>\n",
       "      <th>4</th>\n",
       "      <th>5</th>\n",
       "    </tr>\n",
       "    <tr>\n",
       "      <th>Actual</th>\n",
       "      <th></th>\n",
       "      <th></th>\n",
       "      <th></th>\n",
       "      <th></th>\n",
       "      <th></th>\n",
       "    </tr>\n",
       "  </thead>\n",
       "  <tbody>\n",
       "    <tr>\n",
       "      <th>1</th>\n",
       "      <td>1670</td>\n",
       "      <td>0</td>\n",
       "      <td>1667</td>\n",
       "      <td>65</td>\n",
       "      <td>13</td>\n",
       "    </tr>\n",
       "    <tr>\n",
       "      <th>2</th>\n",
       "      <td>38</td>\n",
       "      <td>0</td>\n",
       "      <td>581</td>\n",
       "      <td>7</td>\n",
       "      <td>37</td>\n",
       "    </tr>\n",
       "    <tr>\n",
       "      <th>3</th>\n",
       "      <td>140</td>\n",
       "      <td>8</td>\n",
       "      <td>25718</td>\n",
       "      <td>91</td>\n",
       "      <td>224</td>\n",
       "    </tr>\n",
       "    <tr>\n",
       "      <th>4</th>\n",
       "      <td>231</td>\n",
       "      <td>1</td>\n",
       "      <td>1330</td>\n",
       "      <td>159</td>\n",
       "      <td>85</td>\n",
       "    </tr>\n",
       "    <tr>\n",
       "      <th>5</th>\n",
       "      <td>22</td>\n",
       "      <td>0</td>\n",
       "      <td>919</td>\n",
       "      <td>128</td>\n",
       "      <td>409</td>\n",
       "    </tr>\n",
       "  </tbody>\n",
       "</table>\n",
       "</div>"
      ],
      "text/plain": [
       "Predicted     1  2      3    4    5\n",
       "Actual                             \n",
       "1          1670  0   1667   65   13\n",
       "2            38  0    581    7   37\n",
       "3           140  8  25718   91  224\n",
       "4           231  1   1330  159   85\n",
       "5            22  0    919  128  409"
      ]
     },
     "execution_count": 44,
     "metadata": {},
     "output_type": "execute_result"
    }
   ],
   "source": [
    "data_result = {'y_Actual':    data2016_test['Mode'],\n",
    "        'y_Predicted': prob_max\n",
    "        }\n",
    "\n",
    "df = pd.DataFrame(data_result, columns=['y_Actual','y_Predicted'])\n",
    "confusion_matrix = pd.crosstab(df['y_Actual'], df['y_Predicted'], rownames=['Actual'], colnames=['Predicted'],dropna=False)\n",
    "\n",
    "confusion_matrix"
   ]
  },
  {
   "cell_type": "code",
   "execution_count": 45,
   "metadata": {},
   "outputs": [
    {
     "name": "stdout",
     "output_type": "stream",
     "text": [
      "Global accuracy of the model: 0.8334376770115971\n"
     ]
    }
   ],
   "source": [
    "accuracy = np.diagonal(confusion_matrix.to_numpy()).sum()/confusion_matrix.to_numpy().sum()\n",
    "print('Global accuracy of the model:', accuracy)"
   ]
  },
  {
   "cell_type": "markdown",
   "metadata": {},
   "source": [
    "Let's try other dataset."
   ]
  },
  {
   "cell_type": "code",
   "execution_count": 48,
   "metadata": {},
   "outputs": [
    {
     "data": {
      "text/plain": [
       "<module 'biogeme_acc' from 'D:\\\\UCL\\\\RE-BNN\\\\biogeme_acc.py'>"
      ]
     },
     "execution_count": 48,
     "metadata": {},
     "output_type": "execute_result"
    }
   ],
   "source": [
    "import biogeme_acc\n",
    "import importlib\n",
    "importlib.reload(biogeme_acc)"
   ]
  },
  {
   "cell_type": "code",
   "execution_count": 52,
   "metadata": {},
   "outputs": [],
   "source": [
    "acc=[]\n",
    "y=2005\n",
    "for data in data_list:\n",
    "    accuracy=biogeme_acc.biogeme_mnl(data,year=str(y))\n",
    "    acc.append(accuracy)\n",
    "    y=y+1"
   ]
  },
  {
   "cell_type": "code",
   "execution_count": 53,
   "metadata": {},
   "outputs": [
    {
     "data": {
      "text/plain": [
       "[0.8411545471857232,\n",
       " 0.838159014188874,\n",
       " 0.8366228683254123,\n",
       " 0.8299658508821856,\n",
       " 0.8304428992722058,\n",
       " 0.8324247987572376,\n",
       " 0.8303863785199738,\n",
       " 0.83415394030432,\n",
       " 0.8333928571428572,\n",
       " 0.8272611612306269,\n",
       " 0.8291197923105452,\n",
       " 0.8334376770115971]"
      ]
     },
     "execution_count": 53,
     "metadata": {},
     "output_type": "execute_result"
    }
   ],
   "source": [
    "acc"
   ]
  },
  {
   "cell_type": "markdown",
   "metadata": {},
   "source": [
    "# Comparsion Original code and Biogeme package"
   ]
  },
  {
   "cell_type": "code",
   "execution_count": 58,
   "metadata": {},
   "outputs": [
    {
     "data": {
      "text/plain": [
       "array([0.74338257, 0.74243214, 0.73782499, 0.73480364, 0.73136549,\n",
       "       0.74229629, 0.7331964 , 0.7319536 , 0.72994048, 0.72770645,\n",
       "       0.73182717, 0.74078049])"
      ]
     },
     "execution_count": 58,
     "metadata": {},
     "output_type": "execute_result"
    }
   ],
   "source": [
    "accuracy_mnl.values.T[1]"
   ]
  },
  {
   "cell_type": "code",
   "execution_count": 65,
   "metadata": {},
   "outputs": [
    {
     "data": {
      "text/plain": [
       "[0.8411545471857232,\n",
       " 0.838159014188874,\n",
       " 0.8366228683254123,\n",
       " 0.8299658508821856,\n",
       " 0.8304428992722058,\n",
       " 0.8324247987572376,\n",
       " 0.8303863785199738,\n",
       " 0.83415394030432,\n",
       " 0.8333928571428572,\n",
       " 0.8272611612306269,\n",
       " 0.8291197923105452,\n",
       " 0.8334376770115971]"
      ]
     },
     "execution_count": 65,
     "metadata": {},
     "output_type": "execute_result"
    }
   ],
   "source": [
    "acc"
   ]
  },
  {
   "cell_type": "code",
   "execution_count": 64,
   "metadata": {},
   "outputs": [
    {
     "data": {
      "image/png": "[encoded data removed]",
      "text/plain": [
       "<Figure size 432x288 with 1 Axes>"
      ]
     },
     "metadata": {},
     "output_type": "display_data"
    }
   ],
   "source": [
    "plt.plot(range(len(data_list)),accuracy_mnl.values.T[1])\n",
    "plt.plot(range(len(data_list)),acc)\n",
    "plt.grid()"
   ]
  }
 ],
 "metadata": {
  "kernelspec": {
   "display_name": "Python 3",
   "language": "python",
   "name": "python3"
  },
  "language_info": {
   "codemirror_mode": {
    "name": "ipython",
    "version": 3
   },
   "file_extension": ".py",
   "mimetype": "text/x-python",
   "name": "python",
   "nbconvert_exporter": "python",
   "pygments_lexer": "ipython3",
   "version": "3.6.13"
  },
  "toc": {
   "base_numbering": 1,
   "nav_menu": {},
   "number_sections": true,
   "sideBar": true,
   "skip_h1_title": false,
   "title_cell": "Table of Contents",
   "title_sidebar": "Contents",
   "toc_cell": false,
   "toc_position": {},
   "toc_section_display": true,
   "toc_window_display": false
  }
 },
 "nbformat": 4,
 "nbformat_minor": 2
}
